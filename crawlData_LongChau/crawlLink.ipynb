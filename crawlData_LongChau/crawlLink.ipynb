{
 "cells": [
  {
   "cell_type": "code",
   "execution_count": 11,
   "id": "c9729d27",
   "metadata": {},
   "outputs": [],
   "source": [
    "from selenium import webdriver\n",
    "from selenium.webdriver.common.by import By\n",
    "from selenium.common.exceptions import NoSuchElementException,TimeoutException,StaleElementReferenceException\n",
    "from selenium.webdriver.chrome.service import Service\n",
    "from selenium.webdriver.chrome.options import Options\n",
    "from selenium.webdriver.support.ui import WebDriverWait\n",
    "from selenium.webdriver.support import expected_conditions as EC\n",
    "\n",
    "import time\n",
    "import os\n",
    "import pandas as pd"
   ]
  },
  {
   "cell_type": "code",
   "execution_count": 12,
   "id": "d4c9ccef",
   "metadata": {},
   "outputs": [],
   "source": [
    "# Khởi tạo trình duyệt\n",
    "options = Options()\n",
    "options.add_argument(\"--start-maximized\")\n",
    "# options.add_argument(\"--headless\")\n",
    "driver = webdriver.Chrome(options=options)"
   ]
  },
  {
   "cell_type": "code",
   "execution_count": null,
   "id": "bce36720",
   "metadata": {},
   "outputs": [],
   "source": [
    "# Truy cập vào trang web\n",
    "base_url = \"https://nhathuoclongchau.com.vn/\"\n",
    "driver.get(base_url)\n",
    "wait = WebDriverWait(driver,15)\n",
    "\n",
    "wait.until(EC.presence_of_all_elements_located((By.TAG_NAME,\"body\")))\n",
    "\n",
    "# Navigate to thuốc section\n",
    "thuoc_menu = wait.until(EC.element_to_be_clickable((By.CSS_SELECTOR, \"a[href='/thuoc']\")))\n",
    "driver.execute_script(\"arguments[0].click();\", thuoc_menu)\n",
    "time.sleep(2)\n",
    "\n",
    "# Go to tra cứu thuốc\n",
    "driver.execute_script(\"window.scrollBy(0,900);\")\n",
    "time.sleep(2)\n",
    "tracuu = driver.find_element(By.CSS_SELECTOR, \"a[href='/thuoc/tra-cuu-thuoc-a-z']\")\n",
    "driver.execute_script(\"arguments[0].click();\", tracuu)\n",
    "#wait.until(EC.presence_of_all_elements_located((By.CSS_SELECTOR,\"div.pagination\")))\n",
    "wait.until(EC.presence_of_all_elements_located((By.CSS_SELECTOR,\"div.no-scrollbar\")))\n",
    "\n",
    "# Tìm danh sách các ký tự từ A-Z và 5\n",
    "char_buttons = driver.find_elements(By.CSS_SELECTOR, \"div.no-scrollbar div.cursor-pointer\")\n",
    "alphabets = [btn.text.strip() for btn in char_buttons if btn.text.strip()]\n",
    "\n",
    "thuoc_data = []\n",
    "\n",
    "for alpha in alphabets:\n",
    "    try:\n",
    "        print(f\"\\n Đang xử lý danh mục: {alpha}\")\n",
    "        page_num = 1 \n",
    "        while True:\n",
    "            url = f\"https://nhathuoclongchau.com.vn/thuoc/tra-cuu-thuoc-a-z?alphabet={alpha}&page={page_num}\"\n",
    "            driver.get(url)\n",
    "        \n",
    "            try:\n",
    "                wait.until(EC.presence_of_all_elements_located((By.CSS_SELECTOR,\"div.medicine-item\")))\n",
    "                print(f\"Trang {page_num} - {driver.current_url}\")\n",
    "\n",
    "                items = driver.find_elements(By.CSS_SELECTOR,\"div.medicine-item a[href*='/thuoc/']\")\n",
    "            if not items:\n",
    "                print(\" - Không tìm thấy thuốc nào, dừng lại.\")\n",
    "                break\n",
    "            for el in items:\n",
    "                name = el.text.strip()\n",
    "                link = el.get_attribute(\"href\")\n",
    "                thuoc_data.append({\"Tên thuốc\": name, \"Link\": link})\n",
    "            # Kiểm tra nếu có trang tiếp theo\n",
    "            next_btn = driver.find_elements(By.CSS_SELECTOR,\"ul.pagination li a[rel='next']\")\n",
    "            if next_btn:\n",
    "                page += 1\n",
    "                time.sleep(1)\n",
    "            else:\n",
    "                break\n",
    "            except TimeoutException:\n",
    "                print(\"Time out -> bỏ quan trang\")\n",
    "                break\n",
    "    \n",
    "\n",
    "driver.quit()\n",
    "\n"
   ]
  },
  {
   "cell_type": "code",
   "execution_count": 14,
   "id": "c94a2c9e",
   "metadata": {},
   "outputs": [
    {
     "name": "stdout",
     "output_type": "stream",
     "text": [
      "\n",
      " Tổng số link thuốc thu được: 0\n"
     ]
    },
    {
     "data": {
      "text/html": [
       "<div>\n",
       "<style scoped>\n",
       "    .dataframe tbody tr th:only-of-type {\n",
       "        vertical-align: middle;\n",
       "    }\n",
       "\n",
       "    .dataframe tbody tr th {\n",
       "        vertical-align: top;\n",
       "    }\n",
       "\n",
       "    .dataframe thead th {\n",
       "        text-align: right;\n",
       "    }\n",
       "</style>\n",
       "<table border=\"1\" class=\"dataframe\">\n",
       "  <thead>\n",
       "    <tr style=\"text-align: right;\">\n",
       "      <th></th>\n",
       "    </tr>\n",
       "  </thead>\n",
       "  <tbody>\n",
       "  </tbody>\n",
       "</table>\n",
       "</div>"
      ],
      "text/plain": [
       "Empty DataFrame\n",
       "Columns: []\n",
       "Index: []"
      ]
     },
     "execution_count": 14,
     "metadata": {},
     "output_type": "execute_result"
    }
   ],
   "source": [
    "df_thuoc = pd.DataFrame(thuoc_data)\n",
    "print(f\"\\n Tổng số link thuốc thu được: {len(df_thuoc)}\")\n",
    "df_thuoc.head()"
   ]
  },
  {
   "cell_type": "code",
   "execution_count": null,
   "id": "21447e0e",
   "metadata": {},
   "outputs": [],
   "source": [
    "# 🧱 Cài đặt thư viện cần thiết\n",
    "from selenium import webdriver\n",
    "from selenium.webdriver.common.by import By\n",
    "from selenium.webdriver.support.ui import WebDriverWait\n",
    "from selenium.webdriver.support import expected_conditions as EC\n",
    "from selenium.webdriver.chrome.options import Options\n",
    "from selenium.common.exceptions import TimeoutException, NoSuchElementException, StaleElementReferenceException\n",
    "import pandas as pd\n",
    "import time\n",
    "\n",
    "# 🚀 Cấu hình WebDriver cho Jupyter Notebook\n",
    "options = Options()\n",
    "options.add_argument(\"--start-maximized\")\n",
    "driver = webdriver.Chrome(options=options)\n",
    "wait = WebDriverWait(driver, 15)\n",
    "\n",
    "# 🏁 Bắt đầu tại trang tra cứu A-Z\n",
    "start_url = \"https://nhathuoclongchau.com.vn/thuoc/tra-cuu-thuoc-a-z\"\n",
    "driver.get(start_url)\n",
    "wait.until(EC.presence_of_element_located((By.CSS_SELECTOR, \"div.no-scrollbar\")))\n",
    "\n",
    "# 🔍 Tìm danh sách các ký tự A-Z và 5\n",
    "char_buttons = driver.find_elements(By.CSS_SELECTOR, \"div.no-scrollbar div.cursor-pointer\")\n",
    "\n",
    "# 🧺 Lưu kết quả\n",
    "thuoc_data = []\n",
    "\n",
    "# 🔁 Lặp qua từng ký tự\n",
    "for i in range(len(char_buttons)):\n",
    "    try:\n",
    "        char_buttons = driver.find_elements(By.CSS_SELECTOR, \"div.no-scrollbar div.cursor-pointer\")\n",
    "        char_button = char_buttons[i]\n",
    "        char = char_button.text.strip()\n",
    "        if not char:\n",
    "            continue\n",
    "\n",
    "        print(f\"\\n🔎 Đang xử lý danh mục: {char}\")\n",
    "        driver.execute_script(\"arguments[0].click();\", char_button)\n",
    "        time.sleep(1)\n",
    "        current_url = driver.current_url\n",
    "\n",
    "        # 🔁 Phân trang trong từng danh mục\n",
    "        page_num = 1\n",
    "        while True:\n",
    "            try:\n",
    "                wait.until(EC.presence_of_element_located((By.CSS_SELECTOR, \"div.medicine-item\")))\n",
    "                print(f\"  📄 Trang {page_num} - {driver.current_url}\")\n",
    "\n",
    "                # 🧼 Lấy các thuốc trên trang hiện tại\n",
    "                items = driver.find_elements(By.CSS_SELECTOR, \"div.medicine-item a[href*='/thuoc/']\")\n",
    "                for el in items:\n",
    "                    name = el.text.strip()\n",
    "                    link = el.get_attribute(\"href\")\n",
    "                    thuoc_data.append({\"Tên thuốc\": name, \"Link\": link})\n",
    "\n",
    "                # ➡️ Tìm nút \"Trang tiếp\" (nếu có)\n",
    "                next_button = driver.find_elements(By.CSS_SELECTOR, \"ul.pagination li a[rel='next']\")\n",
    "                if next_button and next_button[0].is_enabled():\n",
    "                    driver.execute_script(\"arguments[0].click();\", next_button[0])\n",
    "                    page_num += 1\n",
    "                    time.sleep(1)\n",
    "                else:\n",
    "                    break\n",
    "            except TimeoutException:\n",
    "                print(\"  ⚠️ Timeout - bỏ qua trang.\")\n",
    "                break\n",
    "\n",
    "    except StaleElementReferenceException:\n",
    "        print(\"⚠️ Element bị stale, bỏ qua danh mục này.\")\n",
    "        continue\n",
    "\n",
    "# ✅ Đóng trình duyệt sau khi hoàn tất\n",
    "driver.quit()\n",
    "\n",
    "# 📊 Hiển thị kết quả bằng pandas\n",
    "df_thuoc = pd.DataFrame(thuoc_data)\n",
    "print(f\"\\n✅ Tổng số thuốc thu được: {len(df_thuoc)}\")\n",
    "df_thuoc.head()\n"
   ]
  },
  {
   "cell_type": "code",
   "execution_count": 4,
   "id": "b4d8e202",
   "metadata": {},
   "outputs": [
    {
     "name": "stdout",
     "output_type": "stream",
     "text": [
      "Đã lưu danh sách thành công\n"
     ]
    },
    {
     "name": "stderr",
     "output_type": "stream",
     "text": [
      "<>:1: SyntaxWarning: invalid escape sequence '\\d'\n",
      "<>:1: SyntaxWarning: invalid escape sequence '\\d'\n",
      "C:\\Users\\Admin\\AppData\\Local\\Temp\\ipykernel_23984\\4071047285.py:1: SyntaxWarning: invalid escape sequence '\\d'\n",
      "  with open(\"danh_muc_links\\danh_muc_links.txt\",\"w\",encoding=\"utf-8\") as f:\n"
     ]
    }
   ],
   "source": [
    "with open(\"danh_muc_links\\danh_muc_links.txt\",\"w\",encoding=\"utf-8\") as f:\n",
    "    for name, link in ds_thuoc:\n",
    "        f.write(f\"{link}\\n\")\n",
    "\n",
    "print(\"Đã lưu danh sách thành công\")"
   ]
  },
  {
   "cell_type": "code",
   "execution_count": 3,
   "id": "a3d2497d",
   "metadata": {},
   "outputs": [],
   "source": [
    "# Lấy danh sách link tất cả các thuốc từ các link danh mục\n",
    "file_path = os.path.join(\"danh_muc_links\",\"danh_muc_links.txt\")\n",
    "\n",
    "with open(file_path,\"r\",encoding=\"utf-8\") as f:\n",
    "    danh_muc_links = [line.strip() for line in f.readlines() if line.strip()]\n",
    "\n"
   ]
  },
  {
   "cell_type": "code",
   "execution_count": 4,
   "id": "15236728",
   "metadata": {},
   "outputs": [
    {
     "name": "stdout",
     "output_type": "stream",
     "text": [
      "Đang truy cập vào danh mục: https://nhathuoclongchau.com.vn/thuoc/tra-cuu-thuoc-a-z\n",
      "Đang truy cập vào danh mục: https://nhathuoclongchau.com.vn/thuoc/tra-cuu-thuoc-a-z\n",
      "Đang truy cập vào danh mục: https://nhathuoclongchau.com.vn/thuoc/tra-cuu-thuoc-a-z?alphabet=A\n",
      "Đang truy cập vào danh mục: https://nhathuoclongchau.com.vn/thuoc/tra-cuu-thuoc-a-z?alphabet=B\n",
      "Đang truy cập vào danh mục: https://nhathuoclongchau.com.vn/thuoc/tra-cuu-thuoc-a-z?alphabet=C\n",
      "Đang truy cập vào danh mục: https://nhathuoclongchau.com.vn/thuoc/tra-cuu-thuoc-a-z?alphabet=D\n",
      "Đang truy cập vào danh mục: https://nhathuoclongchau.com.vn/thuoc/tra-cuu-thuoc-a-z?alphabet=E\n",
      "Đang truy cập vào danh mục: https://nhathuoclongchau.com.vn/thuoc/tra-cuu-thuoc-a-z?alphabet=F\n",
      "Đang truy cập vào danh mục: https://nhathuoclongchau.com.vn/thuoc/tra-cuu-thuoc-a-z?alphabet=G\n",
      "Đang truy cập vào danh mục: https://nhathuoclongchau.com.vn/thuoc/tra-cuu-thuoc-a-z?alphabet=H\n",
      "Đang truy cập vào danh mục: https://nhathuoclongchau.com.vn/thuoc/tra-cuu-thuoc-a-z?alphabet=I\n",
      "Đang truy cập vào danh mục: https://nhathuoclongchau.com.vn/thuoc/tra-cuu-thuoc-a-z?alphabet=J\n",
      "Đang truy cập vào danh mục: https://nhathuoclongchau.com.vn/thuoc/tra-cuu-thuoc-a-z?alphabet=K\n",
      "Đang truy cập vào danh mục: https://nhathuoclongchau.com.vn/thuoc/tra-cuu-thuoc-a-z?alphabet=L\n",
      "Đang truy cập vào danh mục: https://nhathuoclongchau.com.vn/thuoc/tra-cuu-thuoc-a-z?alphabet=M\n",
      "Đang truy cập vào danh mục: https://nhathuoclongchau.com.vn/thuoc/tra-cuu-thuoc-a-z?alphabet=N\n",
      "Đang truy cập vào danh mục: https://nhathuoclongchau.com.vn/thuoc/tra-cuu-thuoc-a-z?alphabet=O\n",
      "Đang truy cập vào danh mục: https://nhathuoclongchau.com.vn/thuoc/tra-cuu-thuoc-a-z?alphabet=P\n",
      "Đang truy cập vào danh mục: https://nhathuoclongchau.com.vn/thuoc/tra-cuu-thuoc-a-z?alphabet=Q\n",
      "Đang truy cập vào danh mục: https://nhathuoclongchau.com.vn/thuoc/tra-cuu-thuoc-a-z?alphabet=R\n",
      "Đang truy cập vào danh mục: https://nhathuoclongchau.com.vn/thuoc/tra-cuu-thuoc-a-z?alphabet=S\n",
      "Đang truy cập vào danh mục: https://nhathuoclongchau.com.vn/thuoc/tra-cuu-thuoc-a-z?alphabet=T\n",
      "Đang truy cập vào danh mục: https://nhathuoclongchau.com.vn/thuoc/tra-cuu-thuoc-a-z?alphabet=U\n",
      "Đang truy cập vào danh mục: https://nhathuoclongchau.com.vn/thuoc/tra-cuu-thuoc-a-z?alphabet=V\n",
      "Đang truy cập vào danh mục: https://nhathuoclongchau.com.vn/thuoc/tra-cuu-thuoc-a-z?alphabet=W\n",
      "Đang truy cập vào danh mục: https://nhathuoclongchau.com.vn/thuoc/tra-cuu-thuoc-a-z?alphabet=X\n",
      "Đang truy cập vào danh mục: https://nhathuoclongchau.com.vn/thuoc/tra-cuu-thuoc-a-z?alphabet=Y\n",
      "Đang truy cập vào danh mục: https://nhathuoclongchau.com.vn/thuoc/tra-cuu-thuoc-a-z?alphabet=Z\n",
      "Không còn trang kế tiếp\n"
     ]
    }
   ],
   "source": [
    "all_thuoc_links = []\n",
    "\n",
    "for link in danh_muc_links:\n",
    "    print(f\"Đang truy cập vào danh mục: {link}\")\n",
    "    driver.get(link)\n",
    "    time.sleep(3)\n",
    "\n",
    "\n",
    "while True:\n",
    "    thuoc_links = driver.execute_script(\n",
    "        \"\"\"\n",
    "        return Array.from(document.querySelectorAll(\"a[href^='/thuoc/']\"))\n",
    "            .map(link => link.href)\n",
    "            .filter(href => !href.includes('tra-cuu-thuoc-a-z') && href.includes('/thuoc/'));\n",
    "\"\"\"\n",
    "    )\n",
    "    all_thuoc_links.extend(thuoc_links)\n",
    "\n",
    "\n",
    "    #Kiểm tra có nút sang trang tiếp không\n",
    "    try:\n",
    "        current_page = driver.find_element(By.CSS_SELECTOR,'li.flex.items-center.justify-center.cursor-default')\n",
    "        next_li = current_page.find_element(By.XPATH,'following-sibling::li[1]')\n",
    "        driver.execute_script(\"arguments[0].click();\",next_li)\n",
    "        time.sleep(2)\n",
    "    except NoSuchElementException:\n",
    "        print(\"Không còn trang kế tiếp\")\n",
    "        break\n",
    "    \n",
    "    "
   ]
  },
  {
   "cell_type": "code",
   "execution_count": 6,
   "id": "045654f1",
   "metadata": {},
   "outputs": [
    {
     "name": "stdout",
     "output_type": "stream",
     "text": [
      "Đã thu thập 17 link thuốc\n"
     ]
    },
    {
     "name": "stderr",
     "output_type": "stream",
     "text": [
      "<>:5: SyntaxWarning: invalid escape sequence '\\D'\n",
      "<>:5: SyntaxWarning: invalid escape sequence '\\D'\n",
      "C:\\Users\\Admin\\AppData\\Local\\Temp\\ipykernel_22284\\1120402743.py:5: SyntaxWarning: invalid escape sequence '\\D'\n",
      "  with open(\"danh_muc_links\\DS_thuoc_links.txt\",\"w\",encoding=\"utf-8\") as f:\n"
     ]
    }
   ],
   "source": [
    "#Xóa trùng link(nếu có)\n",
    "all_thuoc_links = list(set(all_thuoc_links))\n",
    "\n",
    "#Lưu file\n",
    "with open(\"danh_muc_links\\DS_thuoc_links.txt\",\"w\",encoding=\"utf-8\") as f:\n",
    "    for link in all_thuoc_links:\n",
    "        f.write(link + \"\\n\")\n",
    "\n",
    "print(f\"Đã thu thập {len(all_thuoc_links)} link thuốc\")"
   ]
  }
 ],
 "metadata": {
  "kernelspec": {
   "display_name": "Python 3",
   "language": "python",
   "name": "python3"
  },
  "language_info": {
   "codemirror_mode": {
    "name": "ipython",
    "version": 3
   },
   "file_extension": ".py",
   "mimetype": "text/x-python",
   "name": "python",
   "nbconvert_exporter": "python",
   "pygments_lexer": "ipython3",
   "version": "3.12.4"
  }
 },
 "nbformat": 4,
 "nbformat_minor": 5
}
